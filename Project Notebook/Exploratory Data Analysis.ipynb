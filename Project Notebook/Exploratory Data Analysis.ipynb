{
 "cells": [
  {
   "cell_type": "markdown",
   "id": "faef6dce-6d3e-4253-af5c-85d603ca1c7a",
   "metadata": {},
   "source": [
    "# Exploratory Data Analysis\n",
    "Understanding the dataset to explore how the data is present in the database and if there is a need of creating some aggregated tables that can help with:\n",
    "- Vendor selection for profitability\n",
    "- Product Pricing Optimization"
   ]
  },
  {
   "cell_type": "code",
   "execution_count": 1,
   "id": "d981b0c8-2556-4091-a2c3-3d5f08e9c21c",
   "metadata": {},
   "outputs": [],
   "source": [
    "import sqlite3\n",
    "import pandas as pd"
   ]
  },
  {
   "cell_type": "code",
   "execution_count": 2,
   "id": "feaa8220-e5de-47b7-857d-99c3958073e0",
   "metadata": {},
   "outputs": [],
   "source": [
    "# creating database connection\n",
    "conn = sqlite3.connect('inventory.db')"
   ]
  },
  {
   "cell_type": "code",
   "execution_count": 3,
   "id": "13432cc4-a284-43bd-9f50-6fc4dc32529b",
   "metadata": {},
   "outputs": [
    {
     "data": {
      "text/html": [
       "<div>\n",
       "<style scoped>\n",
       "    .dataframe tbody tr th:only-of-type {\n",
       "        vertical-align: middle;\n",
       "    }\n",
       "\n",
       "    .dataframe tbody tr th {\n",
       "        vertical-align: top;\n",
       "    }\n",
       "\n",
       "    .dataframe thead th {\n",
       "        text-align: right;\n",
       "    }\n",
       "</style>\n",
       "<table border=\"1\" class=\"dataframe\">\n",
       "  <thead>\n",
       "    <tr style=\"text-align: right;\">\n",
       "      <th></th>\n",
       "      <th>name</th>\n",
       "    </tr>\n",
       "  </thead>\n",
       "  <tbody>\n",
       "  </tbody>\n",
       "</table>\n",
       "</div>"
      ],
      "text/plain": [
       "Empty DataFrame\n",
       "Columns: [name]\n",
       "Index: []"
      ]
     },
     "execution_count": 3,
     "metadata": {},
     "output_type": "execute_result"
    }
   ],
   "source": [
    "# checking tables present in the database\n",
    "tables = pd.read_sql_query(\"SELECT name FROM sqlite_master WHERE type='table'\",conn)\n",
    "tables"
   ]
  },
  {
   "cell_type": "code",
   "execution_count": 4,
   "id": "5b99d47b-a5f4-45c0-8699-0420c8124ec9",
   "metadata": {},
   "outputs": [],
   "source": [
    "# exploring what type of data available in the tables\n",
    "for table in tables['name']:\n",
    "    print('-'*50,f'{table}','-'*50)\n",
    "    print('Count of records:',pd.read_sql_query(f\"select count(*) as count from {table}\",conn)['count'].values[0])\n",
    "    display(pd.read_sql_query(f\"select * from {table} limit 5\",conn))\n",
    "    "
   ]
  },
  {
   "cell_type": "markdown",
   "id": "2c6f17f7-e023-4e31-aa36-0510b2ee4a3b",
   "metadata": {},
   "source": [
    "- The begin_inventory and end_inventory tables contain inventory data at the start and end of the year, which is not relevant for analyzing vendor behavior.\n",
    "- Therefore, these tables can be excluded from the analysis.\n",
    "- Next, we will examine how vendor-related data is distributed across other tables."
   ]
  },
  {
   "cell_type": "code",
   "execution_count": 6,
   "id": "b68c6580-bc43-465a-8298-5b48f3fe97d9",
   "metadata": {},
   "outputs": [
    {
     "ename": "DatabaseError",
     "evalue": "Execution failed on sql 'select * from purchases where VendorNumber = 4466': no such table: purchases",
     "output_type": "error",
     "traceback": [
      "\u001b[1;31m---------------------------------------------------------------------------\u001b[0m",
      "\u001b[1;31mOperationalError\u001b[0m                          Traceback (most recent call last)",
      "File \u001b[1;32m~\\AppData\\Roaming\\Python\\Python313\\site-packages\\pandas\\io\\sql.py:2664\u001b[0m, in \u001b[0;36mSQLiteDatabase.execute\u001b[1;34m(self, sql, params)\u001b[0m\n\u001b[0;32m   2663\u001b[0m \u001b[38;5;28;01mtry\u001b[39;00m:\n\u001b[1;32m-> 2664\u001b[0m     cur\u001b[38;5;241m.\u001b[39mexecute(sql, \u001b[38;5;241m*\u001b[39margs)\n\u001b[0;32m   2665\u001b[0m     \u001b[38;5;28;01mreturn\u001b[39;00m cur\n",
      "\u001b[1;31mOperationalError\u001b[0m: no such table: purchases",
      "\nThe above exception was the direct cause of the following exception:\n",
      "\u001b[1;31mDatabaseError\u001b[0m                             Traceback (most recent call last)",
      "Cell \u001b[1;32mIn[6], line 2\u001b[0m\n\u001b[0;32m      1\u001b[0m \u001b[38;5;66;03m# choosing one vendor and filtering the different tables \u001b[39;00m\n\u001b[1;32m----> 2\u001b[0m purchases \u001b[38;5;241m=\u001b[39m pd\u001b[38;5;241m.\u001b[39mread_sql_query(\u001b[38;5;124m\"\u001b[39m\u001b[38;5;124mselect * from purchases where VendorNumber = 4466\u001b[39m\u001b[38;5;124m\"\u001b[39m,conn)\n",
      "File \u001b[1;32m~\\AppData\\Roaming\\Python\\Python313\\site-packages\\pandas\\io\\sql.py:528\u001b[0m, in \u001b[0;36mread_sql_query\u001b[1;34m(sql, con, index_col, coerce_float, params, parse_dates, chunksize, dtype, dtype_backend)\u001b[0m\n\u001b[0;32m    525\u001b[0m \u001b[38;5;28;01massert\u001b[39;00m dtype_backend \u001b[38;5;129;01mis\u001b[39;00m \u001b[38;5;129;01mnot\u001b[39;00m lib\u001b[38;5;241m.\u001b[39mno_default\n\u001b[0;32m    527\u001b[0m \u001b[38;5;28;01mwith\u001b[39;00m pandasSQL_builder(con) \u001b[38;5;28;01mas\u001b[39;00m pandas_sql:\n\u001b[1;32m--> 528\u001b[0m     \u001b[38;5;28;01mreturn\u001b[39;00m pandas_sql\u001b[38;5;241m.\u001b[39mread_query(\n\u001b[0;32m    529\u001b[0m         sql,\n\u001b[0;32m    530\u001b[0m         index_col\u001b[38;5;241m=\u001b[39mindex_col,\n\u001b[0;32m    531\u001b[0m         params\u001b[38;5;241m=\u001b[39mparams,\n\u001b[0;32m    532\u001b[0m         coerce_float\u001b[38;5;241m=\u001b[39mcoerce_float,\n\u001b[0;32m    533\u001b[0m         parse_dates\u001b[38;5;241m=\u001b[39mparse_dates,\n\u001b[0;32m    534\u001b[0m         chunksize\u001b[38;5;241m=\u001b[39mchunksize,\n\u001b[0;32m    535\u001b[0m         dtype\u001b[38;5;241m=\u001b[39mdtype,\n\u001b[0;32m    536\u001b[0m         dtype_backend\u001b[38;5;241m=\u001b[39mdtype_backend,\n\u001b[0;32m    537\u001b[0m     )\n",
      "File \u001b[1;32m~\\AppData\\Roaming\\Python\\Python313\\site-packages\\pandas\\io\\sql.py:2728\u001b[0m, in \u001b[0;36mSQLiteDatabase.read_query\u001b[1;34m(self, sql, index_col, coerce_float, parse_dates, params, chunksize, dtype, dtype_backend)\u001b[0m\n\u001b[0;32m   2717\u001b[0m \u001b[38;5;28;01mdef\u001b[39;00m\u001b[38;5;250m \u001b[39m\u001b[38;5;21mread_query\u001b[39m(\n\u001b[0;32m   2718\u001b[0m     \u001b[38;5;28mself\u001b[39m,\n\u001b[0;32m   2719\u001b[0m     sql,\n\u001b[1;32m   (...)\u001b[0m\n\u001b[0;32m   2726\u001b[0m     dtype_backend: DtypeBackend \u001b[38;5;241m|\u001b[39m Literal[\u001b[38;5;124m\"\u001b[39m\u001b[38;5;124mnumpy\u001b[39m\u001b[38;5;124m\"\u001b[39m] \u001b[38;5;241m=\u001b[39m \u001b[38;5;124m\"\u001b[39m\u001b[38;5;124mnumpy\u001b[39m\u001b[38;5;124m\"\u001b[39m,\n\u001b[0;32m   2727\u001b[0m ) \u001b[38;5;241m-\u001b[39m\u001b[38;5;241m>\u001b[39m DataFrame \u001b[38;5;241m|\u001b[39m Iterator[DataFrame]:\n\u001b[1;32m-> 2728\u001b[0m     cursor \u001b[38;5;241m=\u001b[39m \u001b[38;5;28mself\u001b[39m\u001b[38;5;241m.\u001b[39mexecute(sql, params)\n\u001b[0;32m   2729\u001b[0m     columns \u001b[38;5;241m=\u001b[39m [col_desc[\u001b[38;5;241m0\u001b[39m] \u001b[38;5;28;01mfor\u001b[39;00m col_desc \u001b[38;5;129;01min\u001b[39;00m cursor\u001b[38;5;241m.\u001b[39mdescription]\n\u001b[0;32m   2731\u001b[0m     \u001b[38;5;28;01mif\u001b[39;00m chunksize \u001b[38;5;129;01mis\u001b[39;00m \u001b[38;5;129;01mnot\u001b[39;00m \u001b[38;5;28;01mNone\u001b[39;00m:\n",
      "File \u001b[1;32m~\\AppData\\Roaming\\Python\\Python313\\site-packages\\pandas\\io\\sql.py:2676\u001b[0m, in \u001b[0;36mSQLiteDatabase.execute\u001b[1;34m(self, sql, params)\u001b[0m\n\u001b[0;32m   2673\u001b[0m     \u001b[38;5;28;01mraise\u001b[39;00m ex \u001b[38;5;28;01mfrom\u001b[39;00m\u001b[38;5;250m \u001b[39m\u001b[38;5;21;01minner_exc\u001b[39;00m\n\u001b[0;32m   2675\u001b[0m ex \u001b[38;5;241m=\u001b[39m DatabaseError(\u001b[38;5;124mf\u001b[39m\u001b[38;5;124m\"\u001b[39m\u001b[38;5;124mExecution failed on sql \u001b[39m\u001b[38;5;124m'\u001b[39m\u001b[38;5;132;01m{\u001b[39;00msql\u001b[38;5;132;01m}\u001b[39;00m\u001b[38;5;124m'\u001b[39m\u001b[38;5;124m: \u001b[39m\u001b[38;5;132;01m{\u001b[39;00mexc\u001b[38;5;132;01m}\u001b[39;00m\u001b[38;5;124m\"\u001b[39m)\n\u001b[1;32m-> 2676\u001b[0m \u001b[38;5;28;01mraise\u001b[39;00m ex \u001b[38;5;28;01mfrom\u001b[39;00m\u001b[38;5;250m \u001b[39m\u001b[38;5;21;01mexc\u001b[39;00m\n",
      "\u001b[1;31mDatabaseError\u001b[0m: Execution failed on sql 'select * from purchases where VendorNumber = 4466': no such table: purchases"
     ]
    }
   ],
   "source": [
    "# choosing one vendor and filtering the different tables \n",
    "purchases = pd.read_sql_query(\"select * from purchases where VendorNumber = 4466\",conn)\n",
    "purchases"
   ]
  },
  {
   "cell_type": "code",
   "execution_count": null,
   "id": "75089ae8-9a30-412d-85b2-02d8b9da67da",
   "metadata": {},
   "outputs": [],
   "source": [
    "purchase_prices = pd.read_sql_query(\"\"\"select * from purchase_prices where VendorNumber = 4466\"\"\",conn)\n",
    "purchase_prices"
   ]
  },
  {
   "cell_type": "code",
   "execution_count": null,
   "id": "e3300c0c-0f80-49da-82cc-e3c9a033b89f",
   "metadata": {},
   "outputs": [],
   "source": [
    "vendor_invoice = pd.read_sql_query(\"\"\"select * from vendor_invoice where VendorNumber = 4466\"\"\",conn)\n",
    "vendor_invoice"
   ]
  },
  {
   "cell_type": "code",
   "execution_count": null,
   "id": "10bfe41c-2601-407a-977e-6c5739133627",
   "metadata": {
    "scrolled": true
   },
   "outputs": [],
   "source": [
    "sales = pd.read_sql_query(\"\"\"select * from sales where VendorNo = 4466\"\"\",conn)\n",
    "sales"
   ]
  },
  {
   "cell_type": "code",
   "execution_count": null,
   "id": "28d10325-5437-4ca5-83de-66c9a218cdf2",
   "metadata": {},
   "outputs": [],
   "source": [
    "purchases.groupby([\"Brand\",\"PurchasePrice\"])[[\"Quantity\",\"Dollars\"]].sum()"
   ]
  },
  {
   "cell_type": "code",
   "execution_count": null,
   "id": "765c1a3c-1c9e-4bc8-bf7d-54ad327b1364",
   "metadata": {
    "scrolled": true
   },
   "outputs": [],
   "source": [
    "purchases.groupby([\"PONumber\"])[[\"Quantity\",\"Dollars\"]].sum()"
   ]
  },
  {
   "cell_type": "code",
   "execution_count": null,
   "id": "12a079bf-a240-4e3b-8e40-8be6dbc0da94",
   "metadata": {},
   "outputs": [],
   "source": [
    "sales.groupby(\"Brand\")[['SalesQuantity','SalesDollars','SalesPrice','ExciseTax']].sum()"
   ]
  },
  {
   "cell_type": "markdown",
   "id": "c45d12c9-0ef6-43ff-a284-a39b3aad8a26",
   "metadata": {},
   "source": [
    "- The purchases table contains actual purchase data, including the date of purchase, products (brands) purchased by vendors, the amount paid (in dollars), and the quantity purchased.\n",
    "- The purchase price column is derived from the purchase_prices table, which provides product-wise actual and purchase prices. The combination of vendor and brand is unique in this table.\n",
    "- The vendor_invoice table aggregates data from the purchases table, summarizing quantity and dollar amounts, along with an additional column for freight. This table maintains uniqueness based on vendor and PO number.\n",
    "- The sales table captures actual sales transactions, detailing the brands purchased by vendors, the quantity sold, the selling price, and the revenue earned.\n",
    "---\n",
    "As the data that we need for analysis is distributed in different tables, we need to create a summary table containing:\n",
    "- purchase transactions made by vendors\n",
    "- sales transaction data\n",
    "- freight costs for each vendor\n",
    "- actual product prices from vendors"
   ]
  },
  {
   "cell_type": "markdown",
   "id": "26f7699c-970d-45e6-8406-6ea485f22eb6",
   "metadata": {},
   "source": [
    "Let's first explore each summary in different tables."
   ]
  },
  {
   "cell_type": "code",
   "execution_count": null,
   "id": "380ebd0c-2ee3-44fa-b93b-eadb89ff2f1e",
   "metadata": {},
   "outputs": [],
   "source": [
    "freight_summary = pd.read_sql_query(\"\"\"SELECT \n",
    "    VendorNumber, \n",
    "    SUM(Freight) as FreightCost \n",
    "FROM vendor_invoice \n",
    "GROUP BY VendorNumber\"\"\", conn)\n",
    "freight_summary"
   ]
  },
  {
   "cell_type": "code",
   "execution_count": null,
   "id": "74009b1d-aaa9-4f40-a5c0-9fe8ef0b8e01",
   "metadata": {},
   "outputs": [],
   "source": [
    "purchase_summary = pd.read_sql_query(\"\"\"SELECT \n",
    "    p.VendorNumber,\n",
    "    p.VendorName,\n",
    "    p.Brand,\n",
    "    p.Description,\n",
    "    p.PurchasePrice,\n",
    "    pp.Price as ActualPrice,\n",
    "    pp.Volume,\n",
    "    SUM(p.Quantity) AS TotalPurchaseQuantity,\n",
    "    SUM(p.Dollars) AS TotalPurchaseDollars\n",
    "FROM purchases p\n",
    "JOIN purchase_prices pp\n",
    "    ON p.Brand = pp.Brand\n",
    "WHERE p.PurchasePrice > 0\n",
    "GROUP BY p.VendorNumber,p.VendorName, p.Brand, p.Description, p.PurchasePrice, pp.Price, pp.Volume\n",
    "ORDER BY TotalPurchaseDollars\n",
    "\"\"\",conn)\n",
    "purchase_summary"
   ]
  },
  {
   "cell_type": "code",
   "execution_count": null,
   "id": "7f8793f0-f014-4dfb-b7ee-37c52502acd9",
   "metadata": {},
   "outputs": [],
   "source": [
    "sales_summary = pd.read_sql_query(\"\"\"SELECT \n",
    "    VendorNo,\n",
    "    Brand,\n",
    "    SUM(SalesQuantity) AS TotalSalesQuantity,\n",
    "    SUM(SalesDollars) AS TotalSalesDollars,\n",
    "    SUM(SalesPrice) AS TotalSalesPrice,\n",
    "    SUM(ExciseTax) AS TotalExciseTax\n",
    "FROM sales\n",
    "GROUP BY VendorNo, Brand\"\"\",conn)\n",
    "sales_summary"
   ]
  },
  {
   "cell_type": "code",
   "execution_count": null,
   "id": "2d6e5db1-743d-4415-ac9d-6c3c82ef6a88",
   "metadata": {},
   "outputs": [],
   "source": [
    "# merging all the summary table to create an aggregated summary table for further analysis\n",
    "vendor_sales_summary = pd.read_sql_query(\"\"\"WITH FreightSummary AS (\n",
    "    SELECT \n",
    "        VendorNumber, \n",
    "        SUM(Freight) AS FreightCost \n",
    "    FROM vendor_invoice \n",
    "    GROUP BY VendorNumber\n",
    "), \n",
    "\n",
    "PurchaseSummary AS (\n",
    "    SELECT \n",
    "        p.VendorNumber,\n",
    "        p.VendorName,\n",
    "        p.Brand,\n",
    "        p.Description,\n",
    "        p.PurchasePrice,\n",
    "        pp.Price AS ActualPrice,\n",
    "        pp.Volume,\n",
    "        SUM(p.Quantity) AS TotalPurchaseQuantity,\n",
    "        SUM(p.Dollars) AS TotalPurchaseDollars\n",
    "    FROM purchases p\n",
    "    JOIN purchase_prices pp\n",
    "        ON p.Brand = pp.Brand\n",
    "    WHERE p.PurchasePrice > 0\n",
    "    GROUP BY p.VendorNumber, p.VendorName, p.Brand, p.Description, p.PurchasePrice, pp.Price, pp.Volume\n",
    "), \n",
    "\n",
    "SalesSummary AS (\n",
    "    SELECT \n",
    "        VendorNo,\n",
    "        Brand,\n",
    "        SUM(SalesQuantity) AS TotalSalesQuantity,\n",
    "        SUM(SalesDollars) AS TotalSalesDollars,\n",
    "        SUM(SalesPrice) AS TotalSalesPrice,\n",
    "        SUM(ExciseTax) AS TotalExciseTax\n",
    "    FROM sales\n",
    "    GROUP BY VendorNo, Brand\n",
    ") \n",
    "\n",
    "SELECT \n",
    "    ps.VendorNumber,\n",
    "    ps.VendorName,\n",
    "    ps.Brand,\n",
    "    ps.Description,\n",
    "    ps.PurchasePrice,\n",
    "    ps.ActualPrice,\n",
    "    ps.Volume,\n",
    "    ps.TotalPurchaseQuantity,\n",
    "    ps.TotalPurchaseDollars,\n",
    "    ss.TotalSalesQuantity,\n",
    "    ss.TotalSalesDollars,\n",
    "    ss.TotalSalesPrice,\n",
    "    ss.TotalExciseTax,\n",
    "    fs.FreightCost\n",
    "FROM PurchaseSummary ps\n",
    "LEFT JOIN SalesSummary ss \n",
    "    ON ps.VendorNumber = ss.VendorNo \n",
    "    AND ps.Brand = ss.Brand\n",
    "LEFT JOIN FreightSummary fs \n",
    "    ON ps.VendorNumber = fs.VendorNumber\n",
    "ORDER BY ps.TotalPurchaseDollars DESC\"\"\",conn)\n"
   ]
  },
  {
   "cell_type": "code",
   "execution_count": null,
   "id": "363f194f-e554-4dee-b21d-6e47d933258e",
   "metadata": {},
   "outputs": [],
   "source": [
    "vendor_sales_summary.columns"
   ]
  },
  {
   "cell_type": "markdown",
   "id": "e3eebe61-d5a3-4b9d-9ff0-7b1ef5e62912",
   "metadata": {},
   "source": [
    "This query generates a vendor-wise sales and purchase summary, which is valuable for:\n",
    "\n",
    "**Performance Optimization:**\n",
    "- The query involves heavy joins and aggregations on large datasets like sales and purchases.\n",
    "- Storing the pre-aggregated results avoids repeated expensive computations.\n",
    "- Helps in analyzing sales, purchases, and pricing for different vendors and brands.\n",
    "- Future Benefits of Storing this data for faster Dashboarding & Reporting.\n",
    "- Instead of running expensive queries each time, dashboards can fetch data quickly from vendor_sales_summary.\n",
    "\n",
    "Let's clean the data if there is any inconsistencies. "
   ]
  },
  {
   "cell_type": "markdown",
   "id": "676ae8ca-2aee-4aba-a2eb-dc7bc89080a2",
   "metadata": {},
   "source": [
    "# Data Cleaning"
   ]
  },
  {
   "cell_type": "code",
   "execution_count": null,
   "id": "06739574-f61c-468b-a0bf-cd3d9f4a3cf5",
   "metadata": {},
   "outputs": [],
   "source": [
    "vendor_sales_summary.dtypes"
   ]
  },
  {
   "cell_type": "code",
   "execution_count": null,
   "id": "1c979d07-c017-4515-bebd-89745fc174e9",
   "metadata": {},
   "outputs": [],
   "source": [
    "vendor_sales_summary.isnull().sum()"
   ]
  },
  {
   "cell_type": "code",
   "execution_count": null,
   "id": "134eda74-5d7a-402f-a7b4-1f4bf6b83b95",
   "metadata": {},
   "outputs": [],
   "source": [
    "vendor_sales_summary['Volume'].unique()"
   ]
  },
  {
   "cell_type": "code",
   "execution_count": null,
   "id": "4408c7ce-0e1c-48df-9d76-b7008fd83689",
   "metadata": {},
   "outputs": [],
   "source": [
    "vendor_sales_summary['VendorName'].unique()"
   ]
  },
  {
   "cell_type": "markdown",
   "id": "fd7c62ef-2756-497b-b719-7b9ac0f077ea",
   "metadata": {},
   "source": [
    "- The Volume is a numerical column but having object datatype.\n",
    "- There are some products that are not sold, so having missing values.\n",
    "- There are white spaces in the categorical columns."
   ]
  },
  {
   "cell_type": "code",
   "execution_count": null,
   "id": "8956aa37-2954-48b7-b01b-3a8cf0d6e479",
   "metadata": {},
   "outputs": [],
   "source": [
    "# creating new columns for better analysis\n",
    "vendor_sales_summary['GrossProfit'] = vendor_sales_summary['TotalSalesDollars'] - vendor_sales_summary['TotalPurchaseDollars']\n",
    "vendor_sales_summary['ProfitMargin'] = (vendor_sales_summary['GrossProfit'] / vendor_sales_summary['TotalSalesDollars'])*100\n",
    "vendor_sales_summary['StockTurnover'] = vendor_sales_summary['TotalSalesQuantity'] / vendor_sales_summary['TotalPurchaseQuantity']\n",
    "vendor_sales_summary['SalesToPurchaseRatio'] = vendor_sales_summary['TotalSalesDollars'] / vendor_sales_summary['TotalPurchaseDollars']"
   ]
  },
  {
   "cell_type": "code",
   "execution_count": null,
   "id": "37693e93-26fc-4e0c-add6-ae5a37f25478",
   "metadata": {},
   "outputs": [],
   "source": [
    "# changing datatype to float\n",
    "vendor_sales_summary['Volume'] = vendor_sales_summary['Volume'].astype('float')\n",
    "\n",
    "# filling missing value with 0\n",
    "vendor_sales_summary.fillna(0,inplace = True)\n",
    "\n",
    "# removing spaces from categorical columns\n",
    "vendor_sales_summary['VendorName'] = vendor_sales_summary['VendorName'].str.strip()\n",
    "vendor_sales_summary['Description'] = vendor_sales_summary['Description'].str.strip()"
   ]
  },
  {
   "cell_type": "markdown",
   "id": "06bb35c5-956c-4757-a423-2e23ca3416cb",
   "metadata": {},
   "source": [
    "####  Saving cleaned data into database"
   ]
  },
  {
   "cell_type": "code",
   "execution_count": null,
   "id": "4b4db25b-2da4-4a0c-ae7f-9e7ac7e9be32",
   "metadata": {},
   "outputs": [],
   "source": [
    "cursor = conn.cursor()"
   ]
  },
  {
   "cell_type": "code",
   "execution_count": null,
   "id": "4566937d-6473-4e5d-838b-bfb00eaa285e",
   "metadata": {},
   "outputs": [],
   "source": [
    "# only runs once \n",
    "cursor.execute(\"\"\"CREATE TABLE vendor_sales_summary (\n",
    "    VendorNumber INT,\n",
    "    VendorName VARCHAR(100),\n",
    "    Brand INT,\n",
    "    Description VARCHAR(100),\n",
    "    PurchasePrice DECIMAL(10,2),\n",
    "    ActualPrice DECIMAL(10,2),\n",
    "    Volume INT,\n",
    "    TotalPurchaseQuantity INT,\n",
    "    TotalPurchaseDollars DECIMAL(15,2),\n",
    "    TotalSalesQuantity INT,\n",
    "    TotalSalesDollars DECIMAL(15,2),\n",
    "    TotalSalesPrice DECIMAL(15,2),\n",
    "    TotalExciseTax DECIMAL(15,2),\n",
    "    FreightCost DECIMAL(15,2),\n",
    "    GrossProfit DECIMAL(15,2),\n",
    "    ProfitMargin DECIMAL(15,2),\n",
    "    StockTurnover DECIMAL(15,2),\n",
    "    SalesToPurchaseRatio DECIMAL(15,2),\n",
    "    PRIMARY KEY (VendorNumber, Brand)\n",
    ");\n",
    "\"\"\")"
   ]
  },
  {
   "cell_type": "code",
   "execution_count": null,
   "id": "e038bd85-6f30-4a7c-842a-c68533f30a7a",
   "metadata": {},
   "outputs": [],
   "source": [
    "vendor_sales_summary.to_sql('vendor_sales_summary', conn, if_exists = 'replace', index = False )"
   ]
  },
  {
   "cell_type": "code",
   "execution_count": null,
   "id": "ba8efae7-9b9f-4852-8c90-5293cd269905",
   "metadata": {},
   "outputs": [],
   "source": [
    "pd.read_sql_query(\"select * from vendor_sales_summary\",conn)"
   ]
  },
  {
   "cell_type": "code",
   "execution_count": null,
   "id": "afe83e1c-a51a-4183-af0a-68685b39ce3f",
   "metadata": {},
   "outputs": [],
   "source": []
  },
  {
   "cell_type": "code",
   "execution_count": null,
   "id": "1e525d8e-c44a-4580-ab9e-145a08ccc56c",
   "metadata": {},
   "outputs": [],
   "source": []
  }
 ],
 "metadata": {
  "kernelspec": {
   "display_name": "Python [conda env:base] *",
   "language": "python",
   "name": "conda-base-py"
  },
  "language_info": {
   "codemirror_mode": {
    "name": "ipython",
    "version": 3
   },
   "file_extension": ".py",
   "mimetype": "text/x-python",
   "name": "python",
   "nbconvert_exporter": "python",
   "pygments_lexer": "ipython3",
   "version": "3.13.5"
  }
 },
 "nbformat": 4,
 "nbformat_minor": 5
}
